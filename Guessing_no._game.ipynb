{
 "cells": [
  {
   "cell_type": "markdown",
   "id": "a015c930-b509-40b2-9ea8-4f3c75637957",
   "metadata": {},
   "source": [
    "# Guessing Number Game "
   ]
  },
  {
   "cell_type": "code",
   "execution_count": 54,
   "id": "33a87af0-822d-452c-b74d-34655637b5f4",
   "metadata": {},
   "outputs": [
    {
     "name": "stdin",
     "output_type": "stream",
     "text": [
      "Enter the lower Number: 1\n",
      "Enter the upper Number: 100\n"
     ]
    },
    {
     "name": "stdout",
     "output_type": "stream",
     "text": [
      "you have only  7 chance to guess the random number\n"
     ]
    },
    {
     "name": "stdin",
     "output_type": "stream",
     "text": [
      "Guess the Number: 90\n"
     ]
    },
    {
     "name": "stdout",
     "output_type": "stream",
     "text": [
      "you guessed too big\n"
     ]
    },
    {
     "name": "stdin",
     "output_type": "stream",
     "text": [
      "Guess the Number: 50\n"
     ]
    },
    {
     "name": "stdout",
     "output_type": "stream",
     "text": [
      "you guessed too small\n"
     ]
    },
    {
     "name": "stdin",
     "output_type": "stream",
     "text": [
      "Guess the Number: 80\n"
     ]
    },
    {
     "name": "stdout",
     "output_type": "stream",
     "text": [
      "you guessed too big\n"
     ]
    },
    {
     "name": "stdin",
     "output_type": "stream",
     "text": [
      "Guess the Number: 68\n"
     ]
    },
    {
     "name": "stdout",
     "output_type": "stream",
     "text": [
      "you guessed too big\n"
     ]
    },
    {
     "name": "stdin",
     "output_type": "stream",
     "text": [
      "Guess the Number: 60\n"
     ]
    },
    {
     "name": "stdout",
     "output_type": "stream",
     "text": [
      "you guessed too small\n"
     ]
    },
    {
     "name": "stdin",
     "output_type": "stream",
     "text": [
      "Guess the Number: 65\n"
     ]
    },
    {
     "name": "stdout",
     "output_type": "stream",
     "text": [
      "you guessed too big\n"
     ]
    },
    {
     "name": "stdin",
     "output_type": "stream",
     "text": [
      "Guess the Number: 63\n"
     ]
    },
    {
     "name": "stdout",
     "output_type": "stream",
     "text": [
      "congratulation you did it in 7 try\n"
     ]
    }
   ],
   "source": [
    "import random \n",
    "import math \n",
    "#taking lower no. of input \n",
    "lower=int(input(\"Enter the lower Number:\"))\n",
    "\n",
    "#Taking upper No. of input \n",
    "upper=int(input(\"Enter the upper Number:\"))\n",
    "\n",
    "#generate random no. \n",
    "x = random.randint(lower, upper)\n",
    "total_chances = math.ceil(math.log(upper-lower+1,2))\n",
    "\n",
    "print(\"you have only \", total_chances,\"chance to guess the random number\")\n",
    "\n",
    "count=0\n",
    "while count < total_chances:\n",
    "    count+=1\n",
    "    #guess no. from user input \n",
    "    guess=int(input(\"Guess the Number:\"))\n",
    "\n",
    "    if x==guess:\n",
    "        print(\"congratulation you did it in\",count,\"try\")\n",
    "        break\n",
    "    elif x>guess:\n",
    "        print(\"you guessed too small\")\n",
    "    elif x<guess:\n",
    "        print(\"you guessed too big\")\n",
    "    else:\n",
    "        print(\"The Number is %d\" % x)\n",
    "        print(\"Better luck next time\")\n"
   ]
  }
 ],
 "metadata": {
  "kernelspec": {
   "display_name": "Python 3 (ipykernel)",
   "language": "python",
   "name": "python3"
  },
  "language_info": {
   "codemirror_mode": {
    "name": "ipython",
    "version": 3
   },
   "file_extension": ".py",
   "mimetype": "text/x-python",
   "name": "python",
   "nbconvert_exporter": "python",
   "pygments_lexer": "ipython3",
   "version": "3.12.4"
  }
 },
 "nbformat": 4,
 "nbformat_minor": 5
}
